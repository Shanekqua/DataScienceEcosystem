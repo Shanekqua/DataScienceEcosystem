{
 "cells": [
  {
   "cell_type": "markdown",
   "id": "deac77e0-b1ac-45e6-b975-ffd0a899b6c7",
   "metadata": {
    "tags": []
   },
   "source": [
    "# Data Science Tools and Ecosystem"
   ]
  },
  {
   "cell_type": "markdown",
   "id": "34f104a7-f782-4c1d-863f-270b802589d7",
   "metadata": {},
   "source": [
    "In this notebook, Data Science Tools and Ecosystem are summarized."
   ]
  },
  {
   "cell_type": "markdown",
   "id": "a4e062e3-c2c3-42e1-9415-9ed76fc8b574",
   "metadata": {},
   "source": [
    "**Objectives:**\n",
    "- List popular languages for Data Science\n",
    "- List commonly used libraries used by Data Scientists\n",
    "- Create a table listing Data Science tools\n",
    "- Show a simple arithmitic expression using integers\n",
    "- Convert minutes to hours with coding\n"
   ]
  },
  {
   "cell_type": "markdown",
   "id": "8e2f13ef-91cf-431f-979d-448aa3d44839",
   "metadata": {},
   "source": [
    "Some of the popular languages that Data Scientists use are:"
   ]
  },
  {
   "cell_type": "markdown",
   "id": "9e199f18-b302-4796-8c2c-c964d6eb9a2c",
   "metadata": {},
   "source": [
    "1. SQL"
   ]
  },
  {
   "cell_type": "markdown",
   "id": "54e817fe-3873-42d7-b779-b289002449cf",
   "metadata": {
    "tags": []
   },
   "source": [
    "2. Scala"
   ]
  },
  {
   "cell_type": "markdown",
   "id": "bce349ce-498c-42e4-aab7-5dd3cd8ce601",
   "metadata": {},
   "source": [
    "3. Java"
   ]
  },
  {
   "cell_type": "markdown",
   "id": "121cd68b-93b0-4d70-9137-d048cc5494eb",
   "metadata": {},
   "source": [
    "4. Python"
   ]
  },
  {
   "cell_type": "markdown",
   "id": "be0c7023-fc31-4087-a755-32215cb1b56c",
   "metadata": {},
   "source": [
    "Some of the commonly used libraries used by Data Scientists include:"
   ]
  },
  {
   "cell_type": "markdown",
   "id": "9803772c-4c8a-438b-85a4-d28285a282f7",
   "metadata": {},
   "source": [
    "1. Pandas"
   ]
  },
  {
   "cell_type": "markdown",
   "id": "bd68b789-948f-4a8b-b364-8ec3df1781ce",
   "metadata": {},
   "source": [
    "2. NumPy"
   ]
  },
  {
   "cell_type": "markdown",
   "id": "a29725c8-bd13-4db3-91db-edee9a189be9",
   "metadata": {},
   "source": [
    "3. Tensorflow"
   ]
  },
  {
   "cell_type": "markdown",
   "id": "5435e68e-6cfd-4057-963b-84af1ff46b0f",
   "metadata": {},
   "source": [
    "|Data Science Tools|\n",
    "|------------------|\n",
    "|Rstudio|\n",
    "|GitHub|\n",
    "|Watson Studio|"
   ]
  },
  {
   "cell_type": "markdown",
   "id": "cc540d5d-31ed-4936-b88e-3f18901f8f73",
   "metadata": {},
   "source": [
    "### Below are a few examples of evaluating arithmetic expressions in Python"
   ]
  },
  {
   "cell_type": "markdown",
   "id": "85788e00-38af-42c8-b275-aab15eca9c43",
   "metadata": {},
   "source": [
    "This a simple arithmetic expression to mutiply then add integers"
   ]
  },
  {
   "cell_type": "code",
   "execution_count": 1,
   "id": "6ce6b8b4-9b64-408a-bbfe-2c0bfcaf4a7f",
   "metadata": {
    "tags": []
   },
   "outputs": [
    {
     "data": {
      "text/plain": [
       "17"
      ]
     },
     "execution_count": 1,
     "metadata": {},
     "output_type": "execute_result"
    }
   ],
   "source": [
    "(3*4)+5"
   ]
  },
  {
   "cell_type": "markdown",
   "id": "28d63868-0a37-45b2-95e8-6922ba582975",
   "metadata": {},
   "source": [
    "This will convert 200 minutes to hours by diving by 60"
   ]
  },
  {
   "cell_type": "code",
   "execution_count": 9,
   "id": "6217dae6-0115-49cb-afed-497e5bf11fab",
   "metadata": {
    "tags": []
   },
   "outputs": [
    {
     "name": "stdout",
     "output_type": "stream",
     "text": [
      "3:20\n"
     ]
    }
   ],
   "source": [
    "\n",
    "hours = 200 // 60\n",
    "\n",
    "minutes = 200 % 60\n",
    "\n",
    "time = \"{}:{}\".format(hours, minutes)\n",
    "\n",
    "print(time)"
   ]
  },
  {
   "cell_type": "code",
   "execution_count": 10,
   "id": "22d4099e-1842-4be4-967c-8f2b809faba0",
   "metadata": {
    "tags": []
   },
   "outputs": [
    {
     "name": "stdout",
     "output_type": "stream",
     "text": [
      "3hours:20minutes\n"
     ]
    }
   ],
   "source": [
    "\n",
    "hours = 200 // 60\n",
    "\n",
    "minutes = 200 % 60\n",
    "\n",
    "time = \"{}hours:{}minutes\".format(hours, minutes)\n",
    "\n",
    "print(time)"
   ]
  },
  {
   "cell_type": "markdown",
   "id": "ccfc77cc-8c21-4dcb-9352-8c324f560c51",
   "metadata": {},
   "source": [
    "## Author\n",
    "Shanekqua Salley"
   ]
  },
  {
   "cell_type": "code",
   "execution_count": null,
   "id": "352c668f-f0ca-40c0-9149-da454889bc1b",
   "metadata": {},
   "outputs": [],
   "source": []
  }
 ],
 "metadata": {
  "kernelspec": {
   "display_name": "Python",
   "language": "python",
   "name": "conda-env-python-py"
  },
  "language_info": {
   "codemirror_mode": {
    "name": "ipython",
    "version": 3
   },
   "file_extension": ".py",
   "mimetype": "text/x-python",
   "name": "python",
   "nbconvert_exporter": "python",
   "pygments_lexer": "ipython3",
   "version": "3.7.12"
  }
 },
 "nbformat": 4,
 "nbformat_minor": 5
}
